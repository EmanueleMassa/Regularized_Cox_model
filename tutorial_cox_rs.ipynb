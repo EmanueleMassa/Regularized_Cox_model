{
 "cells": [
  {
   "cell_type": "code",
   "execution_count": 2,
   "metadata": {},
   "outputs": [],
   "source": [
    "import numpy as np\n",
    "import pandas as pd \n",
    "import numpy.random as rnd\n",
    "import matplotlib.pyplot as plt\n",
    "import time \n",
    "import pandas as pd "
   ]
  },
  {
   "cell_type": "markdown",
   "metadata": {},
   "source": [
    "We will need to import the following classes "
   ]
  },
  {
   "cell_type": "code",
   "execution_count": 3,
   "metadata": {},
   "outputs": [],
   "source": [
    "from routines.cox_rs_routines import gauss_model, rs_cox"
   ]
  },
  {
   "cell_type": "markdown",
   "metadata": {},
   "source": [
    "In order to solve the RS equations, we first need to define the data-generating process.\n",
    "Here we assume that each component of $\\bm{\\beta}_0$ is sampled from a Gauss Bernoulli distribution, i.e \n",
    "$$\n",
    "    \\mathbf{e}_{k}'\\beta_0 \\sim \\mathcal{P}_{\\beta_0}, \\quad \\mathcal{P}_{\\beta_0}(x) = (1-\\nu)\\delta(x) + \\nu \\phi(x, \\sigma_0),\n",
    "$$\n",
    "where\n",
    "$$\n",
    "    \\phi(x, \\sigma_0) = \\frac{1}{\\sqrt{2\\pi}\\sigma_0}{\\rm e}^{-\\frac{1}{2}(x/\\sigma_0)^2},\n",
    "$$\n",
    "with $\\sigma_0$ fixed to have that \n",
    "$$\n",
    "    \\|\\bm{\\beta}_0\\|_2^2 = \\int x^2 \\mathcal{P}_{\\beta_0}(x) {\\rm d} x = \\nu \\sigma_0^2 = \\theta_0^2 \\ ,\n",
    "$$\n",
    "i.e. $\\sigma_0 = \\theta_0 / \\sqrt{\\nu}$."
   ]
  },
  {
   "cell_type": "code",
   "execution_count": 4,
   "metadata": {},
   "outputs": [],
   "source": [
    "#number of covariates\n",
    "p = 2000\n",
    "#overfitting ratio\n",
    "zeta = 2.0\n",
    "#number of covariates\n",
    "n = int(p / zeta)\n",
    "#sparsity\n",
    "delta = 0.01\n",
    "#signal strength \n",
    "theta0 = 1.0\n",
    "#define the true parameters of the cumulative hazard\n",
    "phi0 = - np.log(2)\n",
    "rho0 = 2.0\n",
    "model = 'log-logistic'\n",
    "#define the interval in which the censoring is uniform\n",
    "tau1 = 1.0\n",
    "tau2 = 2.0\n",
    "#equivalent gaussian generating process\n",
    "gauss_process = gauss_model(theta0, phi0, rho0, tau1, tau2, model)"
   ]
  },
  {
   "cell_type": "markdown",
   "metadata": {},
   "source": [
    "The istance 'gauss_process' of the class 'gauss_model' can be used to generate the data from either a 'log-logistic' or 'weibull' model:\n",
    "\n",
    "1. 'log-logistic' $\\Lambda_0(t) = \\log (1.0 + {\\rm e}^{\\rho_0 \\log t + \\phi_0})$\n",
    "\n",
    "\n",
    "2. 'weibull' $\\Lambda_0(t) = {\\rm e}^{\\rho_0 \\log t + \\phi_0}$\n",
    "\n",
    "\n",
    "where $\\rho_0, \\phi_0$ are the true model parameters that describe the cumulative hazard. "
   ]
  },
  {
   "cell_type": "markdown",
   "metadata": {},
   "source": [
    "At this point we can declare an instance of the rs_cox class, here 'cox_rs'. The method 'solve' can then be used to solve the rs equations at a fixed value of the paramters $\\alpha$ and $\\rho$ as follows."
   ]
  },
  {
   "cell_type": "code",
   "execution_count": 5,
   "metadata": {},
   "outputs": [
    {
     "name": "stdout",
     "output_type": "stream",
     "text": [
      "[0.29963302 0.19846755 0.22870353 0.86260935 1.97133276 4.26498805]\n"
     ]
    }
   ],
   "source": [
    "pop_size = 10000\n",
    "cox_rs = rs_cox(delta, zeta, gauss_process, pop_size)\n",
    "cox_rs.alpha = 0.75\n",
    "cox_rs.eta = 0.25\n",
    "cox_rs.solve()\n",
    "res = np.array([cox_rs.w, cox_rs.v, cox_rs.tau, cox_rs.hat_w, cox_rs.hat_v, cox_rs.hat_tau], float)\n",
    "print(res)"
   ]
  },
  {
   "cell_type": "markdown",
   "metadata": {},
   "source": [
    "To solve along a full regularization path we define the following function."
   ]
  },
  {
   "cell_type": "code",
   "execution_count": 6,
   "metadata": {},
   "outputs": [],
   "source": [
    "def run_rs(values, ratio, delta, zeta, gm, m, verbose = False):\n",
    "    metrics = np.empty((len(values),7))\n",
    "    cox_rs = rs_cox(delta, zeta, gm, m)\n",
    "    # loop over the values of lambda\n",
    "    for l in range(len(values)):\n",
    "        cox_rs.alpha = values[l] * ratio\n",
    "        cox_rs.eta = values[l] * (1-ratio)\n",
    "        cox_rs.solve()\n",
    "        res = np.array([values[l], cox_rs.w, cox_rs.v, cox_rs.tau, cox_rs.hat_w, cox_rs.hat_v, cox_rs.hat_tau], float)\n",
    "        if verbose:\n",
    "            print(res)\n",
    "        metrics[l,:] = res\n",
    "    df = pd.DataFrame(metrics, columns=['alphas', 'w', 'v', 'tau', 'hat_w', 'hat_v', 'hat_tau'])\n",
    "    return df"
   ]
  },
  {
   "cell_type": "markdown",
   "metadata": {},
   "source": [
    "And use it along the path specified below."
   ]
  },
  {
   "cell_type": "code",
   "execution_count": 7,
   "metadata": {},
   "outputs": [
    {
     "name": "stdout",
     "output_type": "stream",
     "text": [
      "[1.00000000e+01 3.08005762e-05 5.36493359e-04 1.49537727e-06\n",
      " 7.64558864e-01 1.92644738e+00 3.71195635e+00]\n",
      "[9.70193326e+00 4.68763768e-05 6.86030393e-04 2.27585407e-06\n",
      " 7.64562024e-01 1.92644179e+00 3.71195838e+00]\n",
      "[9.41275090e+00 6.98086287e-05 8.67301540e-04 3.38920017e-06\n",
      " 7.64566601e-01 1.92643358e+00 3.71196126e+00]\n",
      "[9.13218811e+00 1.01852229e-04 1.08466593e-03 4.94487641e-06\n",
      " 7.64573077e-01 1.92642183e+00 3.71196528e+00]\n",
      "[8.85998796e+00 1.45764832e-04 1.34262623e-03 7.07673961e-06\n",
      " 7.64582042e-01 1.92640544e+00 3.71197080e+00]\n",
      "[8.59590118e+00 2.04851920e-04 1.64575725e-03 9.94522145e-06\n",
      " 7.64594202e-01 1.92638308e+00 3.71197822e+00]\n",
      "[8.33968596e+00 2.83001156e-04 1.99862686e-03 1.37389828e-05\n",
      " 7.64610394e-01 1.92635318e+00 3.71198803e+00]\n",
      "[8.09110766e+00 3.84703662e-04 2.40571167e-03 1.86759262e-05\n",
      " 7.64631582e-01 1.92631395e+00 3.71200080e+00]\n",
      "[7.84993866e+00 5.15060396e-04 2.87130980e-03 2.50034768e-05\n",
      " 7.64658869e-01 1.92626334e+00 3.71201716e+00]\n",
      "[7.61595810e+00 6.79772669e-04 3.39945393e-03 3.29980826e-05\n",
      " 7.64693484e-01 1.92619906e+00 3.71203784e+00]\n",
      "[7.38895172e+00 8.85116554e-04 3.99382720e-03 4.29639193e-05\n",
      " 7.64736785e-01 1.92611862e+00 3.71206361e+00]\n",
      "[7.16871164e+00 1.13790175e-03 4.65768490e-03 5.52308269e-05\n",
      " 7.64790248e-01 1.92601933e+00 3.71209533e+00]\n",
      "[6.95503620e+00 1.44541630e-03 5.39378453e-03 7.01515406e-05\n",
      " 7.64855455e-01 1.92589832e+00 3.71213391e+00]\n",
      "[6.74772970e+00 1.81535887e-03 6.20432628e-03 8.80983031e-05\n",
      " 7.64934080e-01 1.92575258e+00 3.71218030e+00]\n",
      "[6.54660232e+00 2.25576106e-03 7.09090545e-03 1.09458970e-04\n",
      " 7.65027873e-01 1.92557899e+00 3.71223552e+00]\n",
      "[6.35146988e+00 2.77490233e-03 8.05447847e-03 1.34632745e-04\n",
      " 7.65138641e-01 1.92537438e+00 3.71230058e+00]\n",
      "[6.16215369e+00 3.38122021e-03 9.09534247e-03 1.64025659e-04\n",
      " 7.65268230e-01 1.92513554e+00 3.71237653e+00]\n",
      "[5.97848039e+00 4.08321849e-03 1.02131287e-02 1.98045948e-04\n",
      " 7.65418505e-01 1.92485929e+00 3.71246442e+00]\n",
      "[5.80028177e+00 4.88937616e-03 1.14068094e-02 2.37099448e-04\n",
      " 7.65591332e-01 1.92454248e+00 3.71256529e+00]\n",
      "[5.62739467e+00 5.80805910e-03 1.26747177e-02 2.81585115e-04\n",
      " 7.65788556e-01 1.92418207e+00 3.71268016e+00]\n",
      "[5.45966075e+00 6.84743670e-03 1.40145778e-02 3.31890781e-04\n",
      " 7.66011986e-01 1.92377514e+00 3.71281002e+00]\n",
      "[5.29692642e+00 8.01540516e-03 1.54235459e-02 3.88389241e-04\n",
      " 7.66263380e-01 1.92331895e+00 3.71295582e+00]\n",
      "[5.13904266e+00 9.31951847e-03 1.68982595e-02 4.51434710e-04\n",
      " 7.66544426e-01 1.92281092e+00 3.71311846e+00]\n",
      "[4.98586490e+00 1.07669282e-02 1.84348921e-02 5.21359724e-04\n",
      " 7.66856732e-01 1.92224871e+00 3.71329877e+00]\n",
      "[4.83725285e+00 1.23643324e-02 2.00292142e-02 5.98472493e-04\n",
      " 7.67201814e-01 1.92163020e+00 3.71349754e+00]\n",
      "[4.69307043e+00 1.41179344e-02 2.16766561e-02 6.83054762e-04\n",
      " 7.67581089e-01 1.92095352e+00 3.71371546e+00]\n",
      "[4.55318561e+00 1.60334103e-02 2.33723733e-02 7.75360125e-04\n",
      " 7.67995867e-01 1.92021709e+00 3.71395317e+00]\n",
      "[4.41747029e+00 1.81158863e-02 2.51113115e-02 8.75612843e-04\n",
      " 7.68447343e-01 1.91941958e+00 3.71421122e+00]\n",
      "[4.28580020e+00 2.03699243e-02 2.68882703e-02 9.84007127e-04\n",
      " 7.68936599e-01 1.91855994e+00 3.71449007e+00]\n",
      "[4.15805475e+00 2.27995154e-02 2.86979654e-02 1.10070696e-03\n",
      " 7.69464599e-01 1.91763743e+00 3.71479013e+00]\n",
      "[4.03411697e+00 2.54080805e-02 3.05350869e-02 1.22584649e-03\n",
      " 7.70032191e-01 1.91665155e+00 3.71511171e+00]\n",
      "[3.91387336e+00 2.81984780e-02 3.23943543e-02 1.35953136e-03\n",
      " 7.70640108e-01 1.91560211e+00 3.71545505e+00]\n",
      "[3.79721381e+00 3.11730155e-02 3.42705668e-02 1.50184128e-03\n",
      " 7.71288969e-01 1.91448920e+00 3.71582034e+00]\n",
      "[3.68403150e+00 3.43334677e-02 3.61586498e-02 1.65283514e-03\n",
      " 7.71979286e-01 1.91331315e+00 3.71620769e+00]\n",
      "[3.57422277e+00 3.76810967e-02 3.80536969e-02 1.81256010e-03\n",
      " 7.72711472e-01 1.91207459e+00 3.71661719e+00]\n",
      "[3.46768708e+00 4.12166754e-02 3.99510077e-02 1.98106751e-03\n",
      " 7.73485846e-01 1.91077440e+00 3.71704897e+00]\n",
      "[3.36432686e+00 4.49405129e-02 4.18461235e-02 2.15843983e-03\n",
      " 7.74302648e-01 1.90941375e+00 3.71750322e+00]\n",
      "[3.26404747e+00 4.88524792e-02 4.37348623e-02 2.34483423e-03\n",
      " 7.75162053e-01 1.90799407e+00 3.71798031e+00]\n",
      "[3.16675707e+00 5.29520317e-02 4.56133546e-02 2.54055048e-03\n",
      " 7.76064201e-01 1.90651716e+00 3.71848103e+00]\n",
      "[3.07236658e+00 5.72382374e-02 4.74780857e-02 2.74613209e-03\n",
      " 7.77009221e-01 1.90498516e+00 3.71900674e+00]\n",
      "[2.98078955e+00 6.17097944e-02 4.93259471e-02 2.96251097e-03\n",
      " 7.77997280e-01 1.90340070e+00 3.71955986e+00]\n",
      "[2.89194213e+00 6.63650479e-02 5.11543049e-02 3.19120589e-03\n",
      " 7.79028640e-01 1.90176700e+00 3.72014427e+00]\n",
      "[2.80574295e+00 7.12020015e-02 5.29610894e-02 3.43458379e-03\n",
      " 7.80103729e-01 1.90008803e+00 3.72076606e+00]\n",
      "[2.72211309e+00 7.62183218e-02 5.47449169e-02 3.69619017e-03\n",
      " 7.81223228e-01 1.89836871e+00 3.72143433e+00]\n",
      "[2.64097595 0.08141134 0.05650525 0.00398115 0.78238818 1.89661523\n",
      " 3.72216221]\n",
      "[2.56225724 0.08677803 0.05824259 0.00429664 0.78360012 1.89483528\n",
      " 3.72296811]\n",
      "[2.48588488 0.09231501 0.05995876 0.00465239 0.78486117 1.89303847\n",
      " 3.72387694]\n",
      "[2.41178892 0.09801852 0.06165718 0.00506126 0.78617423 1.89123664\n",
      " 3.72492165]\n",
      "[2.33990151 0.10388437 0.06334323 0.00553981 0.78754306 1.88944429\n",
      " 3.72614455]\n",
      "[2.27015683 0.10990796 0.06502466 0.00610877 0.78897243 1.88767889\n",
      " 3.72759868]\n",
      "[2.20249101 0.11608423 0.066712   0.00679356 0.7904682  1.8859612\n",
      " 3.72934899]\n",
      "[2.13684208 0.12240763 0.06841895 0.00762461 0.79203739 1.88431551\n",
      " 3.73147318]\n",
      "[2.07314992 0.12887217 0.07016278 0.00863754 0.79368819 1.88276974\n",
      " 3.73406218]\n",
      "[2.01135622 0.13547136 0.07196463 0.0098732  0.79542991 1.88135544\n",
      " 3.73722013]\n",
      "[1.95140438 0.14219829 0.07384958 0.01137748 0.79727291 1.88010762\n",
      " 3.74106387]\n",
      "[1.8932395  0.14904567 0.07584665 0.01320088 0.79922844 1.87906441\n",
      " 3.74572185]\n",
      "[1.83680833 0.15600586 0.07798852 0.01539797 0.80130841 1.87826664\n",
      " 3.75133254]\n",
      "[1.78205919 0.16307096 0.08031089 0.01802661 0.80352517 1.87775717\n",
      " 3.75804244]\n",
      "[1.72894193 0.17023295 0.08285171 0.0211471  0.80589122 1.87758027\n",
      " 3.7660037 ]\n",
      "[1.67740792 0.1774837  0.08565006 0.02482119 0.8084189  1.87778081\n",
      " 3.7753716 ]\n",
      "[1.62740997 0.18481518 0.08874491 0.0291112  0.81112012 1.87840351\n",
      " 3.78630199]\n",
      "[1.57890229 0.19221946 0.09217379 0.03407905 0.81400609 1.87949222\n",
      " 3.79894889]\n",
      "[1.53184047 0.19968889 0.09597152 0.03978549 0.8170871  1.88108925\n",
      " 3.81346236]\n",
      "[1.4861814  0.20721615 0.10016917 0.04628941 0.82037234 1.88323487\n",
      " 3.82998666]\n",
      "[1.44188327 0.21479431 0.10479319 0.05364734 0.82386978 1.88596685\n",
      " 3.84865902]\n",
      "[1.39890553 0.22241692 0.10986501 0.06191309 0.82758615 1.88932026\n",
      " 3.8696087 ]\n",
      "[1.35720881 0.23007805 0.11540087 0.07113763 0.83152687 1.8933273\n",
      " 3.89295668]\n",
      "[1.31675493 0.23777232 0.12141204 0.081369   0.8356962  1.89801737\n",
      " 3.91881565]\n",
      "[1.27750684 0.2454949  0.12790529 0.09265253 0.84009726 1.90341711\n",
      " 3.94729045]\n",
      "[1.23942861 0.25324155 0.13488347 0.10503098 0.84473218 1.90955067\n",
      " 3.97847873]\n",
      "[1.20248537 0.26100859 0.14234623 0.11854492 0.84960227 1.91643989\n",
      " 4.01247185]\n",
      "[1.16664328 0.26879291 0.15029078 0.13323309 0.85470815 1.92410461\n",
      " 4.04935586]\n",
      "[1.13186952 0.27659197 0.15871254 0.14913279 0.86004989 1.93256296\n",
      " 4.0892126 ]\n",
      "[1.09813226 0.28440373 0.16760581 0.1662803  0.8656272  1.94183155\n",
      " 4.13212077]\n",
      "[1.06540059 0.29222668 0.17696425 0.18471131 0.87143951 1.9519258\n",
      " 4.17815688]\n",
      "[1.03364454 0.3000598  0.18678137 0.20446129 0.87748611 1.96286006\n",
      " 4.22739628]\n",
      "[1.00283504 0.3079025  0.19705081 0.22556587 0.88376625 1.97464787\n",
      " 4.27991397]\n",
      "[0.97294386 0.31575466 0.20776667 0.24806115 0.89027921 1.98730201\n",
      " 4.33578537]\n",
      "[0.94394364 0.32361652 0.21892363 0.27198401 0.89702435 2.00083469\n",
      " 4.39508701]\n",
      "[0.91580782 0.33148873 0.23051713 0.29737239 0.90400117 2.01525759\n",
      " 4.45789711]\n",
      "[0.88851063 0.33937226 0.24254338 0.32426549 0.91120934 2.03058197\n",
      " 4.52429606]\n",
      "[0.86202709 0.3472684  0.25499943 0.35270396 0.91864873 2.04681867\n",
      " 4.59436692]\n",
      "[0.83633293 0.35517873 0.26788317 0.38273011 0.92631939 2.0639782\n",
      " 4.66819573]\n",
      "[0.81140462 0.3631051  0.2811933  0.414388   0.9342216  2.08207076\n",
      " 4.74587192]\n",
      "[0.78721935 0.37104956 0.29492931 0.44772361 0.94235583 2.10110625\n",
      " 4.82748856]\n",
      "[0.76375496 0.37901438 0.30909139 0.4827849  0.95072274 2.12109432\n",
      " 4.91314264]\n",
      "[0.74098997 0.38700203 0.32368043 0.51962194 0.95932322 2.14204436\n",
      " 5.00293529]\n",
      "[0.71890352 0.3950151  0.33869792 0.55828696 0.96815831 2.16396554\n",
      " 5.09697204]\n",
      "[0.6974754  0.40305635 0.35414592 0.59883441 0.97722923 2.18686679\n",
      " 5.19536297]\n",
      "[0.67668598 0.41112863 0.37002697 0.64132104 0.98653736 2.21075683\n",
      " 5.29822292]\n",
      "[0.65651622 0.41923488 0.38634404 0.68580596 0.99608422 2.23564416\n",
      " 5.40567169]\n",
      "[0.63694765 0.42737815 0.40310046 0.73235065 1.00587146 2.26153706\n",
      " 5.5178342 ]\n",
      "[0.61796236 0.43556153 0.42029988 0.78101904 1.01590088 2.28844364\n",
      " 5.63484065]\n",
      "[0.59954296 0.44378814 0.43794621 0.83187755 1.02617438 2.31637178\n",
      " 5.75682679]\n",
      "[0.58167258 0.45206118 0.45604356 0.88499515 1.03669397 2.34532918\n",
      " 5.88393408]\n",
      "[0.56433485 0.46038383 0.47459619 0.9404434  1.04746179 2.37532342\n",
      " 6.01630994]\n",
      "[0.54751391 0.46875933 0.49360849 0.99829652 1.05848007 2.4063619\n",
      " 6.15410806]\n",
      "[0.53119434 0.47719089 0.51308492 1.05863145 1.06975119 2.43845195\n",
      " 6.29748862]\n",
      "[0.5153612  0.48568174 0.53302998 1.12152797 1.08127762 2.47160084\n",
      " 6.44661872]\n",
      "[0.5        0.49423511 0.5534482  1.18706871 1.09306201 2.50581584\n",
      " 6.60167264]\n"
     ]
    }
   ],
   "source": [
    "#alpha values  \n",
    "values = np.exp(np.linspace(np.log(10.0), np.log(0.5), 100))\n",
    "#l1_ratio\n",
    "ratio = 0.75\n",
    "#solve along the regularization path\n",
    "rs_df = run_rs(values, ratio, delta, zeta, gauss_process, pop_size, verbose = True)"
   ]
  },
  {
   "cell_type": "markdown",
   "metadata": {},
   "source": [
    "We can now plot the value of the RS order parameters along the regularization path."
   ]
  },
  {
   "cell_type": "code",
   "execution_count": 8,
   "metadata": {},
   "outputs": [
    {
     "data": {
      "text/plain": [
       "(0.5, 3.0)"
      ]
     },
     "execution_count": 8,
     "metadata": {},
     "output_type": "execute_result"
    },
    {
     "data": {
      "image/png": "[encoded data removed]",
      "text/plain": [
       "<Figure size 432x288 with 3 Axes>"
      ]
     },
     "metadata": {
      "needs_background": "light"
     },
     "output_type": "display_data"
    }
   ],
   "source": [
    "fig = plt.figure()\n",
    "ax1 = fig.add_subplot(311)\n",
    "ax2 = fig.add_subplot(312)\n",
    "ax3 = fig.add_subplot(313)\n",
    "\n",
    "ax1.plot(rs_df['alphas'],rs_df['w'],'r-')\n",
    "ax1.set_ylabel(r'$w_n$')\n",
    "ax1.set_xlim(left = min(rs_df['alphas']), right = 3.0)\n",
    "# ax1.set_xlabel(r'$\\alpha$')\n",
    "\n",
    "ax2.plot(rs_df['alphas'],rs_df['v'],'r-')\n",
    "ax2.set_ylabel(r'$v_n$')\n",
    "ax2.set_xlim(left = min(rs_df['alphas']), right = 3.0)\n",
    "# ax2.set_xlabel(r'$\\alpha$')\n",
    "\n",
    "ax3.plot(rs_df['alphas'],rs_df['tau'],'r-')\n",
    "ax3.set_ylabel(r'$\\tau_n$')\n",
    "ax3.set_xlabel(r'$\\alpha$')\n",
    "ax3.set_xlim(left = min(rs_df['alphas']), right = 3.0)\n",
    "\n"
   ]
  },
  {
   "cell_type": "code",
   "execution_count": 9,
   "metadata": {},
   "outputs": [
    {
     "data": {
      "text/plain": [
       "(0.5, 3.0)"
      ]
     },
     "execution_count": 9,
     "metadata": {},
     "output_type": "execute_result"
    },
    {
     "data": {
      "image/png": "[encoded data removed]",
      "text/plain": [
       "<Figure size 432x288 with 3 Axes>"
      ]
     },
     "metadata": {
      "needs_background": "light"
     },
     "output_type": "display_data"
    }
   ],
   "source": [
    "fig = plt.figure()\n",
    "ax1 = fig.add_subplot(311)\n",
    "ax2 = fig.add_subplot(312)\n",
    "ax3 = fig.add_subplot(313)\n",
    "\n",
    "ax1.plot(rs_df['alphas'],rs_df['hat_w'],'r-')\n",
    "ax1.set_ylabel(r'$\\hat{w}_n$')\n",
    "ax1.set_xlim(left = min(rs_df['alphas']), right = 3.0)\n",
    "# ax1.set_xlabel(r'$\\alpha$')\n",
    "\n",
    "ax2.plot(rs_df['alphas'],rs_df['hat_v'],'r-')\n",
    "ax2.set_ylabel(r'$\\hat{v}_n$')\n",
    "ax2.set_xlim(left = min(rs_df['alphas']), right = 3.0)\n",
    "# ax2.set_xlabel(r'$\\alpha$')\n",
    "\n",
    "ax3.plot(rs_df['alphas'],rs_df['hat_tau'],'r-')\n",
    "ax3.set_ylabel(r'$\\hat{\\tau}_n$')\n",
    "ax3.set_xlabel(r'$\\alpha$')\n",
    "ax3.set_xlim(left = min(rs_df['alphas']), right = 3.0)\n"
   ]
  },
  {
   "cell_type": "markdown",
   "metadata": {},
   "source": [
    "For the sake of compliteness we also show how one can compare with the quantities computed from the data. To do this we need to generate synthetic data from the model that we specified above. \n",
    "So we import the class 'surv_models'. To fit a regularized Cox regression model we import the class 'cox_model'."
   ]
  },
  {
   "cell_type": "code",
   "execution_count": 10,
   "metadata": {},
   "outputs": [],
   "source": [
    "from routines.cox_routines import cox_model\n",
    "from routines.surv_data_generator import surv_models\n",
    "\n",
    "def isotropic_setting(p, nu, theta0):\n",
    "    beta0 = rnd.normal(size = p)* np.array(rnd.random(size = p)<nu, int)\n",
    "    beta0 = beta0 / np.sqrt(beta0 @ beta0)\n",
    "    beta0 = theta0 * np.sqrt(p) * beta0\n",
    "    #generate covariance matrix\n",
    "    Sigma0 = np.diag(np.ones(p))/p\n",
    "    return Sigma0, beta0\n",
    "\n",
    "#define the population covariance matrix and the true beta\n",
    "\n",
    "Sigma0, beta0 = isotropic_setting(p, delta, theta0)"
   ]
  },
  {
   "cell_type": "code",
   "execution_count": 11,
   "metadata": {},
   "outputs": [],
   "source": [
    "#data generating process\n",
    "data_gen_process = surv_models(Sigma0, beta0, phi0, rho0, tau1, tau2, model) "
   ]
  },
  {
   "cell_type": "markdown",
   "metadata": {},
   "source": [
    "Next we aim at :\n",
    "1. generating a data-set via the method 'gen' of the class surv_models, \n",
    "2. fit a regularized cox model via the routine fit of the class cox_model.\n",
    "\n",
    "This is done in the next function, where GM is an instance of surv_models and cox_m is an instance of cox_model. Notice that the method 'fit' does not know the data-generating model, i.e. it only uses the data ! The estimation method is performed as in the manuscript in reference, for more detail one can check the fyle cox_routine.py in the folder routines\n"
   ]
  },
  {
   "cell_type": "code",
   "execution_count": 26,
   "metadata": {},
   "outputs": [],
   "source": [
    "def experiment(counter, GM, cox_m, method, n, verbose):\n",
    "    tic = time.time()\n",
    "    #generate data\n",
    "    T, C, X = GM.gen(n)\n",
    "    cox_m.fit(T, C, X, method, verb_flag = verbose)\n",
    "    toc = time.time()\n",
    "    print('experiment '+str(counter)+ ' time elapsed = '+str((toc-tic)/60))\n",
    "    return cox_m.ws, cox_m.vs, cox_m.taus, cox_m.hat_ws, cox_m.hat_vs, cox_m.hat_taus"
   ]
  },
  {
   "cell_type": "markdown",
   "metadata": {},
   "source": [
    "Since we need to repeat the experiment above a number of times and record its output, it is handy to define the following "
   ]
  },
  {
   "cell_type": "code",
   "execution_count": 27,
   "metadata": {},
   "outputs": [],
   "source": [
    "def run_sim(p, n, values, ratio, GM, method, m, verbose = False):\n",
    "\n",
    "    cox_m = cox_model(p, values, ratio)\n",
    "\n",
    "    w = np.zeros((m, len(values)))\n",
    "    v= np.zeros((m, len(values)))\n",
    "    tau = np.zeros((m, len(values)))\n",
    "    hat_w = np.zeros((m, len(values)))\n",
    "    hat_v = np.zeros((m, len(values)))\n",
    "    hat_tau = np.zeros((m, len(values)))\n",
    "\n",
    "    big_tic = time.time()\n",
    "    for i in range(m):\n",
    "        w[i,:], v[i,:], tau[i,:], hat_w[i,:], hat_v[i,:], hat_tau[i,:] = experiment(i, GM, cox_m, method, n, verbose)\n",
    "    big_toc = time.time()\n",
    "    print('total elapsed time = ' + str((big_toc-big_tic)/60))\n",
    "\n",
    "    data = {\n",
    "        'alphas' : values,\n",
    "        'w_mean' : np.mean(w, axis = 0),\n",
    "        'w_std' : np.std(w, axis = 0),\n",
    "        'v_mean' : np.mean(v, axis = 0),\n",
    "        'v_std' : np.std(v, axis = 0),\n",
    "        'tau_mean' : np.mean(tau, axis = 0),\n",
    "        'tau_std' : np.std(tau, axis = 0),\n",
    "        'hat_w_mean' : np.mean(hat_w, axis = 0),\n",
    "        'hat_w_std' : np.std(hat_w, axis = 0),\n",
    "        'hat_v_mean' : np.mean(hat_v, axis = 0),\n",
    "        'hat_v_std' : np.std(hat_v, axis = 0),\n",
    "        'hat_tau_mean' : np.mean(hat_tau, axis = 0),\n",
    "        'hat_tau_std' : np.std(hat_tau, axis = 0)\n",
    "    }\n",
    "    df = pd.DataFrame(data)\n",
    "    return df "
   ]
  },
  {
   "cell_type": "markdown",
   "metadata": {},
   "source": [
    "To limit the running time, we here display averages over 5 realizations.\n",
    "First with the 'COX-AMP' method and then with the 'COX-CD' method."
   ]
  },
  {
   "cell_type": "code",
   "execution_count": 35,
   "metadata": {},
   "outputs": [
    {
     "name": "stdout",
     "output_type": "stream",
     "text": [
      "experiment 0 time elapsed = 0.25500028133392333\n",
      "experiment 1 time elapsed = 0.26230629682540896\n",
      "experiment 2 time elapsed = 0.2664995312690735\n",
      "experiment 3 time elapsed = 0.23933153947194416\n",
      "experiment 4 time elapsed = 0.2319072167078654\n",
      "total elapsed time = 1.2550660490989685\n"
     ]
    }
   ],
   "source": [
    "# #simulate the data and perform regressions with COX - AMP\n",
    "m = 5 #number of repetitions to compute average\n",
    "sim_df = run_sim(p, n, values, ratio, data_gen_process, 'amp', m)\n"
   ]
  },
  {
   "cell_type": "code",
   "execution_count": 36,
   "metadata": {},
   "outputs": [
    {
     "data": {
      "text/plain": [
       "(0.5, 3.0)"
      ]
     },
     "execution_count": 36,
     "metadata": {},
     "output_type": "execute_result"
    },
    {
     "data": {
      "image/png": "[encoded data removed]",
      "text/plain": [
       "<Figure size 432x288 with 3 Axes>"
      ]
     },
     "metadata": {
      "needs_background": "light"
     },
     "output_type": "display_data"
    }
   ],
   "source": [
    "fig1 = plt.figure()\n",
    "\n",
    "ax1 = fig1.add_subplot(311)\n",
    "ax2 = fig1.add_subplot(312)\n",
    "ax3 = fig1.add_subplot(313)\n",
    "ax1.set_title('COX-AMP')\n",
    "ax1.errorbar(sim_df['alphas'],sim_df['hat_w_mean'],yerr =sim_df['hat_w_std'],fmt = 'k.', capsize = 3)\n",
    "ax1.plot(rs_df['alphas'],rs_df['hat_w'],'r-')\n",
    "ax1.set_ylabel(r'$\\hat{w}_n$')\n",
    "ax1.set_xlim(left = min(rs_df['alphas']), right = 3.0)\n",
    "# ax1.set_xlabel(r'$\\alpha$')\n",
    "\n",
    "ax2.errorbar(sim_df['alphas'],sim_df['hat_v_mean'],yerr =sim_df['hat_v_std'],fmt = 'k.', capsize = 3)\n",
    "ax2.plot(rs_df['alphas'],rs_df['hat_v'],'r-')\n",
    "ax2.set_ylabel(r'$\\hat{v}_n$')\n",
    "ax2.set_xlim(left = min(rs_df['alphas']), right = 3.0)\n",
    "# ax2.set_xlabel(r'$\\alpha$')\n",
    "\n",
    "ax3.errorbar(sim_df['alphas'],sim_df['hat_tau_mean'],yerr =sim_df['hat_tau_std'],fmt = 'k.', capsize = 3)\n",
    "ax3.plot(rs_df['alphas'],rs_df['hat_tau'],'r-')\n",
    "ax3.set_ylabel(r'$\\hat{\\tau}_n$')\n",
    "ax3.set_xlabel(r'$\\alpha$')\n",
    "ax3.set_xlim(left = min(rs_df['alphas']), right = 3.0)"
   ]
  },
  {
   "cell_type": "code",
   "execution_count": 37,
   "metadata": {},
   "outputs": [
    {
     "data": {
      "text/plain": [
       "(0.5, 3.0)"
      ]
     },
     "execution_count": 37,
     "metadata": {},
     "output_type": "execute_result"
    },
    {
     "data": {
      "image/png": "[encoded data removed]",
      "text/plain": [
       "<Figure size 432x288 with 3 Axes>"
      ]
     },
     "metadata": {
      "needs_background": "light"
     },
     "output_type": "display_data"
    }
   ],
   "source": [
    "\n",
    "fig2 = plt.figure()\n",
    "ax1 = fig2.add_subplot(311)\n",
    "ax2 = fig2.add_subplot(312)\n",
    "ax3 = fig2.add_subplot(313)\n",
    "\n",
    "ax1.set_title('COX-AMP')\n",
    "ax1.errorbar(sim_df['alphas'],sim_df['w_mean'],yerr =sim_df['w_std'],fmt = 'k.', capsize = 3)\n",
    "ax1.plot(rs_df['alphas'],rs_df['w'],'r-')\n",
    "ax1.set_ylabel(r'$w_n$')\n",
    "ax1.set_xlim(left = min(rs_df['alphas']), right = 3.0)\n",
    "# ax1.set_xlabel(r'$\\alpha$')\n",
    "\n",
    "ax2.errorbar(sim_df['alphas'],sim_df['v_mean'],yerr =sim_df['v_std'],fmt = 'k.', capsize = 3)\n",
    "ax2.plot(rs_df['alphas'],rs_df['v'],'r-')\n",
    "ax2.set_ylabel(r'$v_n$')\n",
    "ax2.set_xlim(left = min(rs_df['alphas']), right = 3.0)\n",
    "# ax2.set_xlabel(r'$\\alpha$')\n",
    "\n",
    "ax3.errorbar(sim_df['alphas'],sim_df['tau_mean'],yerr =sim_df['tau_std'],fmt = 'k.', capsize = 3)\n",
    "ax3.plot(rs_df['alphas'],rs_df['tau'],'r-')\n",
    "ax3.set_ylabel(r'$\\tau_n$')\n",
    "ax3.set_xlabel(r'$\\alpha$')\n",
    "ax3.set_xlim(left = min(rs_df['alphas']), right = 3.0)"
   ]
  },
  {
   "cell_type": "code",
   "execution_count": 38,
   "metadata": {},
   "outputs": [
    {
     "name": "stdout",
     "output_type": "stream",
     "text": [
      "experiment 0 time elapsed = 0.29703733921051023\n",
      "experiment 1 time elapsed = 0.302682089805603\n",
      "experiment 2 time elapsed = 0.5718393047650655\n",
      "experiment 3 time elapsed = 0.4354390263557434\n",
      "experiment 4 time elapsed = 0.3998968203862508\n",
      "total elapsed time = 2.006918664773305\n"
     ]
    }
   ],
   "source": [
    "# #simulate the data and perform regressions with COX - CD\n",
    "m = 5 #number of repetitions to compute average\n",
    "sim_df = run_sim(p, n, values, ratio, data_gen_process, 'cd', m)"
   ]
  },
  {
   "cell_type": "code",
   "execution_count": 39,
   "metadata": {},
   "outputs": [
    {
     "data": {
      "text/plain": [
       "(0.5, 3.0)"
      ]
     },
     "execution_count": 39,
     "metadata": {},
     "output_type": "execute_result"
    },
    {
     "data": {
      "image/png": "[encoded data removed]",
      "text/plain": [
       "<Figure size 432x288 with 3 Axes>"
      ]
     },
     "metadata": {
      "needs_background": "light"
     },
     "output_type": "display_data"
    }
   ],
   "source": [
    "fig1 = plt.figure()\n",
    "\n",
    "ax1 = fig1.add_subplot(311)\n",
    "ax2 = fig1.add_subplot(312)\n",
    "ax3 = fig1.add_subplot(313)\n",
    "ax1.set_title('COX-CD')\n",
    "ax1.errorbar(sim_df['alphas'],sim_df['hat_w_mean'],yerr =sim_df['hat_w_std'],fmt = 'k.', capsize = 3)\n",
    "ax1.plot(rs_df['alphas'],rs_df['hat_w'],'r-')\n",
    "ax1.set_ylabel(r'$\\hat{w}_n$')\n",
    "ax1.set_xlim(left = min(rs_df['alphas']), right = 3.0)\n",
    "# ax1.set_xlabel(r'$\\alpha$')\n",
    "\n",
    "ax2.errorbar(sim_df['alphas'],sim_df['hat_v_mean'],yerr =sim_df['hat_v_std'],fmt = 'k.', capsize = 3)\n",
    "ax2.plot(rs_df['alphas'],rs_df['hat_v'],'r-')\n",
    "ax2.set_ylabel(r'$\\hat{v}_n$')\n",
    "ax2.set_xlim(left = min(rs_df['alphas']), right = 3.0)\n",
    "# ax2.set_xlabel(r'$\\alpha$')\n",
    "\n",
    "ax3.errorbar(sim_df['alphas'],sim_df['hat_tau_mean'],yerr =sim_df['hat_tau_std'],fmt = 'k.', capsize = 3)\n",
    "ax3.plot(rs_df['alphas'],rs_df['hat_tau'],'r-')\n",
    "ax3.set_ylabel(r'$\\hat{\\tau}_n$')\n",
    "ax3.set_xlabel(r'$\\alpha$')\n",
    "ax3.set_xlim(left = min(rs_df['alphas']), right = 3.0)"
   ]
  },
  {
   "cell_type": "code",
   "execution_count": 40,
   "metadata": {},
   "outputs": [
    {
     "data": {
      "text/plain": [
       "(0.5, 3.0)"
      ]
     },
     "execution_count": 40,
     "metadata": {},
     "output_type": "execute_result"
    },
    {
     "data": {
      "image/png": "[encoded data removed]",
      "text/plain": [
       "<Figure size 432x288 with 3 Axes>"
      ]
     },
     "metadata": {
      "needs_background": "light"
     },
     "output_type": "display_data"
    }
   ],
   "source": [
    "fig2 = plt.figure()\n",
    "ax1 = fig2.add_subplot(311)\n",
    "ax2 = fig2.add_subplot(312)\n",
    "ax3 = fig2.add_subplot(313)\n",
    "\n",
    "ax1.set_title('COX-CD')\n",
    "ax1.errorbar(sim_df['alphas'],sim_df['w_mean'],yerr =sim_df['w_std'],fmt = 'k.', capsize = 3)\n",
    "ax1.plot(rs_df['alphas'],rs_df['w'],'r-')\n",
    "ax1.set_ylabel(r'$w_n$')\n",
    "ax1.set_xlim(left = min(rs_df['alphas']), right = 3.0)\n",
    "# ax1.set_xlabel(r'$\\alpha$')\n",
    "\n",
    "ax2.errorbar(sim_df['alphas'],sim_df['v_mean'],yerr =sim_df['v_std'],fmt = 'k.', capsize = 3)\n",
    "ax2.plot(rs_df['alphas'],rs_df['v'],'r-')\n",
    "ax2.set_ylabel(r'$v_n$')\n",
    "ax2.set_xlim(left = min(rs_df['alphas']), right = 3.0)\n",
    "# ax2.set_xlabel(r'$\\alpha$')\n",
    "\n",
    "ax3.errorbar(sim_df['alphas'],sim_df['tau_mean'],yerr =sim_df['tau_std'],fmt = 'k.', capsize = 3)\n",
    "ax3.plot(rs_df['alphas'],rs_df['tau'],'r-')\n",
    "ax3.set_ylabel(r'$\\tau_n$')\n",
    "ax3.set_xlabel(r'$\\alpha$')\n",
    "ax3.set_xlim(left = min(rs_df['alphas']), right = 3.0)"
   ]
  }
 ],
 "metadata": {
  "kernelspec": {
   "display_name": "base",
   "language": "python",
   "name": "python3"
  },
  "language_info": {
   "codemirror_mode": {
    "name": "ipython",
    "version": 3
   },
   "file_extension": ".py",
   "mimetype": "text/x-python",
   "name": "python",
   "nbconvert_exporter": "python",
   "pygments_lexer": "ipython3",
   "version": "3.9.12"
  }
 },
 "nbformat": 4,
 "nbformat_minor": 2
}
