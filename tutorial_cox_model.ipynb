{
 "cells": [
  {
   "cell_type": "code",
   "execution_count": 16,
   "metadata": {},
   "outputs": [],
   "source": [
    "import numpy as np\n",
    "import pandas as pd \n",
    "import numpy.random as rnd\n",
    "import matplotlib.pyplot as plt\n",
    "import time "
   ]
  },
  {
   "cell_type": "markdown",
   "metadata": {},
   "source": [
    "We need to import the following classes"
   ]
  },
  {
   "cell_type": "code",
   "execution_count": 17,
   "metadata": {},
   "outputs": [],
   "source": [
    "from routines.cox_routines import cox_model\n",
    "from routines.surv_data_generator import surv_models"
   ]
  },
  {
   "cell_type": "markdown",
   "metadata": {},
   "source": [
    "First of all we generate a synthetic data-set. In order to do this we need to supply some infos. "
   ]
  },
  {
   "cell_type": "code",
   "execution_count": 18,
   "metadata": {},
   "outputs": [],
   "source": [
    "#number of covariates\n",
    "p = 2000\n",
    "#overfitting ratio\n",
    "zeta = 2.0\n",
    "#number of covariates\n",
    "n = int(p / zeta)\n",
    "#sparsity\n",
    "delta = 0.01\n",
    "#signal strength \n",
    "theta0 = 1.0"
   ]
  },
  {
   "cell_type": "markdown",
   "metadata": {},
   "source": [
    "We now define a function to generate the isotropic covariance matrix $\\bm{\\Sigma}_0 := \\bm{I}_p/p$ and the true vector of associations $\\bm{\\beta}_0$ as a sample from the standardized Gauss-Bernoulli distribution"
   ]
  },
  {
   "cell_type": "code",
   "execution_count": 19,
   "metadata": {},
   "outputs": [],
   "source": [
    "def isotropic_setting(p, nu, theta0):\n",
    "    beta0 = rnd.normal(size = p)* np.array(rnd.random(size = p)<nu, int)\n",
    "    beta0 = beta0 / np.sqrt(beta0 @ beta0)\n",
    "    beta0 = theta0 * np.sqrt(p) * beta0\n",
    "    #generate covariance matrix\n",
    "    Sigma0 = np.diag(np.ones(p))/p\n",
    "    return Sigma0, beta0\n",
    "\n",
    "#define the population covariance matrix and the true beta\n",
    "\n",
    "Sigma0, beta0 = isotropic_setting(p, delta, theta0)"
   ]
  },
  {
   "cell_type": "code",
   "execution_count": 20,
   "metadata": {},
   "outputs": [
    {
     "name": "stdout",
     "output_type": "stream",
     "text": [
      "[ 0. -0. -0. ... -0. -0. -0.]\n"
     ]
    },
    {
     "data": {
      "text/plain": [
       "[<matplotlib.lines.Line2D at 0x7fc78747d6d0>]"
      ]
     },
     "execution_count": 20,
     "metadata": {},
     "output_type": "execute_result"
    },
    {
     "data": {
      "image/png": "[encoded data removed]",
      "text/plain": [
       "<Figure size 432x288 with 1 Axes>"
      ]
     },
     "metadata": {
      "needs_background": "light"
     },
     "output_type": "display_data"
    }
   ],
   "source": [
    "print(beta0)\n",
    "plt.figure()\n",
    "plt.plot(beta0)\n"
   ]
  },
  {
   "cell_type": "markdown",
   "metadata": {},
   "source": [
    "We still need to provide the true cumulative hazard, or alternatively specify the survival anlaysis model from which to generate the survival times. At the moment, the class surv models allows to generate data from the 'log-logistic' or the 'weibull' models. Both require the specification of 2 parameters $\\rho$ and $\\phi$. We also need to specify the parameters of the censoring distribution. At the moment the class surv models allows to generate the censoring times from the uniform distribution only. It is required to pass the left end $\\tau_1$ and the right end $\\tau_2$ of the uniform distribution."
   ]
  },
  {
   "cell_type": "code",
   "execution_count": 21,
   "metadata": {},
   "outputs": [],
   "source": [
    "#define the true parameters of the cumulative hazard\n",
    "phi0 = - np.log(2)\n",
    "rho0 = 2.0\n",
    "model = 'log-logistic'\n",
    "#define the interval in which the censoring is uniform\n",
    "tau1 = 1.0\n",
    "tau2 = 2.0\n",
    "#data generating process \n",
    "data_gen_process = surv_models(Sigma0, beta0, phi0, rho0, tau1, tau2, model) "
   ]
  },
  {
   "cell_type": "markdown",
   "metadata": {},
   "source": [
    "Now we can generate the data from the specified model"
   ]
  },
  {
   "cell_type": "code",
   "execution_count": 22,
   "metadata": {},
   "outputs": [
    {
     "name": "stdout",
     "output_type": "stream",
     "text": [
      "average number of events = 0.525\n",
      "average survival time = 1.0949596993560913\n"
     ]
    }
   ],
   "source": [
    "#generate data\n",
    "T, C, X = data_gen_process.gen(n)\n",
    "\n",
    "print('average number of events = ' +str(np.mean(C)))\n",
    "print('average survival time = ' +str(np.mean(T)))\n"
   ]
  },
  {
   "cell_type": "markdown",
   "metadata": {},
   "source": [
    "We can now define the Cox model with the elastic net regularization \n",
    "$$\n",
    "    {\\rm r}(\\bm{\\beta}) = \\alpha \\rho \\|\\bm{\\beta}\\|_1 + \\frac{1}{2} \\alpha (1.0-\\rho) \\|\\bm{\\beta}\\|_2^2\n",
    "$$\n",
    "as an instance of the class 'cox_model'.\n",
    "We need to pass the coordinate of the regularization path: an array for the values of $\\alpha$ and a fixed value for the ratio $\\rho$."
   ]
  },
  {
   "cell_type": "code",
   "execution_count": 23,
   "metadata": {},
   "outputs": [],
   "source": [
    "#alpha values  \n",
    "values = np.exp(np.linspace(np.log(10.0), np.log(0.5), 100))\n",
    "#l1_ratio\n",
    "ratio = 0.75\n",
    "#fit the model along a regularization path\n",
    "cox_m = cox_model(p, values, ratio)"
   ]
  },
  {
   "cell_type": "markdown",
   "metadata": {},
   "source": [
    "We can now fit the Cox model along the pre-specified regularization path.\n",
    "The method 'fit' takes as input the data T, C, X and the string method, which can be either 'amp', for the COX-AMP algorithm, or 'cd', for the Coordinate-wise Descent algorithm. The flag 'verb_flag' is a verbose flag."
   ]
  },
  {
   "cell_type": "code",
   "execution_count": 24,
   "metadata": {},
   "outputs": [
    {
     "name": "stdout",
     "output_type": "stream",
     "text": [
      " time elapsed = 0.22680194775263468\n"
     ]
    }
   ],
   "source": [
    "import time\n",
    "method = 'amp'\n",
    "tic = time.time()\n",
    "cox_m.fit(T, C, X, method)\n",
    "toc = time.time()\n",
    "print(' time elapsed = '+str((toc-tic)/60))"
   ]
  },
  {
   "cell_type": "markdown",
   "metadata": {},
   "source": [
    "Since we will compare the results of COX-AMP with the ones obtained with Coordinate-wise Descent,we save the quantities the betas along the path, and the train and test discrimination error."
   ]
  },
  {
   "cell_type": "code",
   "execution_count": 25,
   "metadata": {},
   "outputs": [],
   "source": [
    "#save the betas along the path and the flags of COX-AMP to see when the algorithm is not converged\n",
    "betas_amp = cox_m.betas\n",
    "flags_amp = cox_m.flags\n",
    "#compute the discrimination error over the data used to fit the model\n",
    "cox_m.compute_Harrel_c_train()\n",
    "train_err_amp = cox_m.hc_index_train\n",
    "#compute the discrimination error over a freshly generate data-set\n",
    "T_test, C_test, X_test = data_gen_process.gen(n)\n",
    "cox_m.compute_Harrel_c_test(T_test, C_test, X_test)\n",
    "test_err_amp = cox_m.hc_index_test"
   ]
  },
  {
   "cell_type": "markdown",
   "metadata": {},
   "source": [
    "We now repeat the same exact steps but with the method 'cd' for Coordinate-wise descent."
   ]
  },
  {
   "cell_type": "code",
   "execution_count": 26,
   "metadata": {},
   "outputs": [
    {
     "name": "stdout",
     "output_type": "stream",
     "text": [
      " time elapsed = 0.6365430593490601\n"
     ]
    }
   ],
   "source": [
    "#fit with Cox CD\n",
    "tic = time.time()\n",
    "cox_m.fit(T, C, X, 'cd')\n",
    "toc = time.time()\n",
    "print(' time elapsed = '+str((toc-tic)/60))\n",
    "betas_cd = cox_m.betas\n",
    "cox_m.compute_Harrel_c_train()\n",
    "train_err_cd = cox_m.hc_index_train\n",
    "cox_m.compute_Harrel_c_test(T_test, C_test, X_test)\n",
    "test_err_cd = cox_m.hc_index_test"
   ]
  },
  {
   "cell_type": "markdown",
   "metadata": {},
   "source": [
    "At this point we can visualize the realtive L2-distance\n",
    "$$\n",
    "    \\|\\hat{\\bm{\\beta}}_{amp} - \\hat{\\bm{\\beta}}_{cd}\\|_2  / \\|\\hat{\\bm{\\beta}}_{cd}\\|_2\n",
    "$$\n",
    "between the estimators in a plot.  "
   ]
  },
  {
   "cell_type": "code",
   "execution_count": 27,
   "metadata": {},
   "outputs": [
    {
     "data": {
      "text/plain": [
       "Text(0.5, 0, '$\\\\alpha$')"
      ]
     },
     "execution_count": 27,
     "metadata": {},
     "output_type": "execute_result"
    },
    {
     "data": {
      "image/png": "[encoded data removed]",
      "text/plain": [
       "<Figure size 432x288 with 1 Axes>"
      ]
     },
     "metadata": {
      "needs_background": "light"
     },
     "output_type": "display_data"
    }
   ],
   "source": [
    "mse = np.sqrt(np.sum((betas_cd - betas_amp)**2, axis = 1))/ np.sqrt(np.sum((betas_cd)**2, axis = 1))\n",
    "plt.figure()\n",
    "plt.title('relative L2 distance AMP vs CD')\n",
    "plt.plot(values, mse, 'r-')\n",
    "plt.xlabel(r'$\\alpha$')"
   ]
  },
  {
   "cell_type": "markdown",
   "metadata": {},
   "source": [
    "Perhaps an Elbow plot is more eloquent."
   ]
  },
  {
   "cell_type": "code",
   "execution_count": 28,
   "metadata": {},
   "outputs": [
    {
     "data": {
      "text/plain": [
       "Text(0.5, 0, '$\\\\alpha$')"
      ]
     },
     "execution_count": 28,
     "metadata": {},
     "output_type": "execute_result"
    },
    {
     "data": {
      "image/png": "[encoded data removed]",
      "text/plain": [
       "<Figure size 432x288 with 1 Axes>"
      ]
     },
     "metadata": {
      "needs_background": "light"
     },
     "output_type": "display_data"
    }
   ],
   "source": [
    "plt.figure()\n",
    "plt.title('Elbow Plot')\n",
    "plt.plot(values, betas_amp, 'r-')\n",
    "plt.plot(values, betas_cd, 'b-')\n",
    "for j in range(len(flags_amp)):\n",
    "    if(flags_amp[j]!=True):\n",
    "        plt.axvline(x = values[j])\n",
    "plt.xlabel(r'$\\alpha$')\n"
   ]
  },
  {
   "cell_type": "markdown",
   "metadata": {},
   "source": [
    "Of course we can do the same thing for the train and test error, measured in term of C-index."
   ]
  },
  {
   "cell_type": "code",
   "execution_count": 29,
   "metadata": {},
   "outputs": [
    {
     "data": {
      "text/plain": [
       "Text(0.5, 0, '$\\\\alpha$')"
      ]
     },
     "execution_count": 29,
     "metadata": {},
     "output_type": "execute_result"
    },
    {
     "data": {
      "image/png": "[encoded data removed]",
      "text/plain": [
       "<Figure size 432x288 with 1 Axes>"
      ]
     },
     "metadata": {
      "needs_background": "light"
     },
     "output_type": "display_data"
    }
   ],
   "source": [
    "plt.figure()\n",
    "plt.title('C index train ')\n",
    "plt.plot(values, train_err_amp, 'r-')\n",
    "plt.plot(values, train_err_cd, 'b-')\n",
    "plt.xlabel(r'$\\alpha$')"
   ]
  },
  {
   "cell_type": "code",
   "execution_count": 30,
   "metadata": {},
   "outputs": [
    {
     "data": {
      "text/plain": [
       "Text(0.5, 0, '$\\\\alpha$')"
      ]
     },
     "execution_count": 30,
     "metadata": {},
     "output_type": "execute_result"
    },
    {
     "data": {
      "image/png": "[encoded data removed]",
      "text/plain": [
       "<Figure size 432x288 with 1 Axes>"
      ]
     },
     "metadata": {
      "needs_background": "light"
     },
     "output_type": "display_data"
    }
   ],
   "source": [
    "plt.figure()\n",
    "plt.title('C index test ')\n",
    "plt.plot(values, test_err_amp, 'r-')\n",
    "plt.plot(values, test_err_cd, 'b-')\n",
    "plt.xlabel(r'$\\alpha$')"
   ]
  }
 ],
 "metadata": {
  "kernelspec": {
   "display_name": "base",
   "language": "python",
   "name": "python3"
  },
  "language_info": {
   "codemirror_mode": {
    "name": "ipython",
    "version": 3
   },
   "file_extension": ".py",
   "mimetype": "text/x-python",
   "name": "python",
   "nbconvert_exporter": "python",
   "pygments_lexer": "ipython3",
   "version": "3.9.12"
  }
 },
 "nbformat": 4,
 "nbformat_minor": 2
}
